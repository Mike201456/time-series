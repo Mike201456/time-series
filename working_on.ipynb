{
 "cells": [
  {
   "cell_type": "code",
   "execution_count": 157,
   "metadata": {},
   "outputs": [
    {
     "name": "stdout",
     "output_type": "stream",
     "text": [
      "\u001b[0m\u001b[01;32mLSTM_stock01.ipynb\u001b[0m*\r\n",
      "\u001b[01;32mREADME.md\u001b[0m*\r\n",
      "\u001b[01;32mScrapYahooKeyStat.ipynb\u001b[0m*\r\n",
      "\u001b[01;32mStock_Prediction_General_Method.py\u001b[0m*\r\n",
      "\u001b[01;32mStock_Prediction_Global_Parameters.py\u001b[0m*\r\n",
      "\u001b[01;32mStock_Prediction_Stateless_LSTM_Model.py\u001b[0m*\r\n",
      "\u001b[01;32mStock_Prediction_Stateless_LSTM_Model_01.py\u001b[0m*\r\n",
      "\u001b[01;32mStock_Prediction_Stateless_LSTM_Model_02.py\u001b[0m*\r\n",
      "\u001b[01;32mStock_Prediction_Stateless_LSTM_Run.ipynb\u001b[0m*\r\n",
      "\u001b[01;32mStock_Prediction_Stateless_LSTM_Run.py\u001b[0m*\r\n",
      "Untitled.ipynb\r\n",
      "\u001b[01;34m__pycache__\u001b[0m/\r\n",
      "\u001b[01;34mhistory\u001b[0m/\r\n",
      "multiple_input_features-Copy1.ipynb\r\n",
      "\u001b[01;32mstock_model.ipynb\u001b[0m*\r\n",
      "stock_prediction .ipynb\r\n",
      "time-series_README.pdf\r\n",
      "\u001b[01;32mworking_on.ipynb\u001b[0m*\r\n"
     ]
    }
   ],
   "source": [
    "ls"
   ]
  },
  {
   "cell_type": "code",
   "execution_count": 158,
   "metadata": {},
   "outputs": [],
   "source": [
    "# LSTM for international airline passengers problem with regression framing\n",
    "import numpy as np\n",
    "import matplotlib.pyplot as plt\n",
    "#from pandas import read_csv\n",
    "import pandas as pd \n",
    "import math\n",
    "from keras.models import Sequential\n",
    "from keras.layers import Dense\n",
    "from keras.layers import LSTM\n",
    "from sklearn.preprocessing import MinMaxScaler\n",
    "from sklearn.metrics import mean_squared_error\n",
    "import quandl \n",
    "%matplotlib inline "
   ]
  },
  {
   "cell_type": "code",
   "execution_count": 159,
   "metadata": {
    "collapsed": true
   },
   "outputs": [],
   "source": [
    "# convert an array of values into a dataset matrix\n",
    "def create_dataset(dataset, look_back=1):\n",
    "\tdataX, dataY = [], []\n",
    "\tfor i in range(len(dataset)-look_back-1):\n",
    "\t\ta = dataset[i:(i+look_back), :]\n",
    "\t\tdataX.append(a)\n",
    "\t\tdataY.append(dataset[i + look_back, 0])\n",
    "\treturn np.array(dataX), np.array(dataY)\n"
   ]
  },
  {
   "cell_type": "code",
   "execution_count": 160,
   "metadata": {
    "collapsed": true
   },
   "outputs": [],
   "source": [
    "ticker = 'AAPL'\n",
    "stkname = \"WIKI/\" + str(ticker)\n",
    "        # df = quandl.get(stkname, authtoken='2c24stWyXfdzLVFWxGe4', start_date=self.paras.start_date,\n",
    "        #                 end_date=self.paras.end_date)\n",
    "        # df = df[['Adj. Open', 'Adj. High', 'Adj. Low', 'Adj. Close', 'Adj. Volume']]\n",
    "        # df = df.rename(columns={\"Adj. Open\": \"open\", \"Adj. High\": \"high\", \"Adj. Low\": \"low\",\n",
    "        #                         \"Adj. Close\": \"close\", \"Adj. Volume\": \"volume\"})\n",
    "\n",
    "        ### add more data from here \n",
    "\n",
    "        # get data for stock price \n",
    "df01 = quandl.get(stkname, authtoken='2c24stWyXfdzLVFWxGe4', start_date= '1980-01-01',\n",
    "                            end_date='2017-10-09')\n",
    "df01 = df01[['Adj. Open', 'Adj. High', 'Adj. Low', 'Adj. Close', 'Adj. Volume']]\n",
    "df01 = df01.rename(columns={\"Adj. Open\": \"open\", \"Adj. High\": \"high\", \"Adj. Low\": \"low\",\n",
    "                                \"Adj. Close\": \"close\", \"Adj. Volume\": \"volume\"})\n",
    "df01['date'] = df01.index\n",
    "        \n",
    "ref_tks = ['AMZN', 'GOOGL']\n",
    "\n",
    "d = []\n",
    "for i in ref_tks:\n",
    "    stkname = \"WIKI/\" + str(i)\n",
    "    t = quandl.get(stkname, authtoken='2c24stWyXfdzLVFWxGe4', start_date= '1980-01-01',\n",
    "                                    end_date='2017-10-09')\n",
    "\n",
    "    t = t[[ 'Adj. Close']]\n",
    "    t = t.rename(columns={\"Adj. Close\": str(i) + '_'+ \"close\"})\n",
    "    t['date'] = t.index\n",
    "    d.append(t)\n",
    "df_ref = pd.concat(d, axis = 1)\n",
    "        # get data for VIX \n",
    "\n",
    "        # df_vix_1 = quandl.get(\"CHRIS/CBOE_VX1\", authtoken=\"-Cd2GkPqwZYD7_NNFF4K\")\n",
    "        # df_vix_1['date'] = df_vix_1.index\n",
    "\n",
    "\n",
    "df = pd.concat([df01, df_ref], axis = 1, join = 'inner')\n",
    "df = df[['open', 'high', 'low', 'close', 'volume', 'AMZN_close', 'GOOGL_close']]"
   ]
  },
  {
   "cell_type": "code",
   "execution_count": 161,
   "metadata": {},
   "outputs": [
    {
     "data": {
      "text/plain": [
       "Index(['open', 'high', 'low', 'close', 'volume', 'AMZN_close', 'GOOGL_close'], dtype='object')"
      ]
     },
     "execution_count": 161,
     "metadata": {},
     "output_type": "execute_result"
    }
   ],
   "source": [
    "df.columns"
   ]
  },
  {
   "cell_type": "code",
   "execution_count": 162,
   "metadata": {
    "collapsed": true
   },
   "outputs": [],
   "source": [
    "df_all = df.copy()"
   ]
  },
  {
   "cell_type": "code",
   "execution_count": 163,
   "metadata": {
    "collapsed": true
   },
   "outputs": [],
   "source": [
    "# all parameters \n",
    "\n",
    "pred_len = 10 \n",
    "valid_len = 500\n"
   ]
  },
  {
   "cell_type": "code",
   "execution_count": 239,
   "metadata": {
    "collapsed": true
   },
   "outputs": [],
   "source": [
    "# define function to divide X into price and volume \n",
    "def divide_into_price_volume(df):\n",
    "\n",
    "    #volume_cols = [col for col in df.columns if 'v' in col]\n",
    "    return np.array(df.drop(df['volume'], 1)), np.array(df['volume'])\n",
    "\n",
    "\n",
    "# preprocess data by row \n",
    "\n",
    "def preprocessing_data_by_row(data):\n",
    "        '''\n",
    "        data: N*M np.array\n",
    "        N: sample\n",
    "        M: features\n",
    "        data_T: M*N\n",
    "        data_T_scale: scaler for column by column, M*N\n",
    "        data_T_scale_T: N*M\n",
    "        '''\n",
    "        if data.size == 0:\n",
    "            return data, None\n",
    "\n",
    "        data_T = data.transpose()\n",
    "        \n",
    "        scaler = preprocessing.MinMaxScaler().fit(data_T)\n",
    "        \n",
    "        data_T_scale = scaler.transform(data_T)\n",
    "        data_T_scale_T = data_T_scale.transpose()\n",
    "        return data_T_scale_T, scaler"
   ]
  },
  {
   "cell_type": "code",
   "execution_count": 240,
   "metadata": {
    "collapsed": true
   },
   "outputs": [],
   "source": [
    "df.dropna(inplace=True)"
   ]
  },
  {
   "cell_type": "code",
   "execution_count": 241,
   "metadata": {},
   "outputs": [],
   "source": [
    "df['label'] = df['close'].shift(-1 * pred_len)"
   ]
  },
  {
   "cell_type": "code",
   "execution_count": 242,
   "metadata": {},
   "outputs": [],
   "source": [
    "y = df['label']\n",
    "X = df.drop('label', 1)"
   ]
  },
  {
   "cell_type": "code",
   "execution_count": 249,
   "metadata": {},
   "outputs": [
    {
     "data": {
      "text/html": [
       "<div>\n",
       "<style>\n",
       "    .dataframe thead tr:only-child th {\n",
       "        text-align: right;\n",
       "    }\n",
       "\n",
       "    .dataframe thead th {\n",
       "        text-align: left;\n",
       "    }\n",
       "\n",
       "    .dataframe tbody tr th {\n",
       "        vertical-align: top;\n",
       "    }\n",
       "</style>\n",
       "<table border=\"1\" class=\"dataframe\">\n",
       "  <thead>\n",
       "    <tr style=\"text-align: right;\">\n",
       "      <th></th>\n",
       "      <th>open</th>\n",
       "      <th>high</th>\n",
       "      <th>low</th>\n",
       "      <th>close</th>\n",
       "      <th>volume</th>\n",
       "      <th>AMZN_close</th>\n",
       "      <th>GOOGL_close</th>\n",
       "    </tr>\n",
       "    <tr>\n",
       "      <th>Date</th>\n",
       "      <th></th>\n",
       "      <th></th>\n",
       "      <th></th>\n",
       "      <th></th>\n",
       "      <th></th>\n",
       "      <th></th>\n",
       "      <th></th>\n",
       "    </tr>\n",
       "  </thead>\n",
       "  <tbody>\n",
       "    <tr>\n",
       "      <th>2004-08-19</th>\n",
       "      <td>2.024737</td>\n",
       "      <td>2.047227</td>\n",
       "      <td>1.950842</td>\n",
       "      <td>1.973332</td>\n",
       "      <td>97230000.0</td>\n",
       "      <td>38.63</td>\n",
       "      <td>50.322842</td>\n",
       "    </tr>\n",
       "    <tr>\n",
       "      <th>2004-08-20</th>\n",
       "      <td>1.973332</td>\n",
       "      <td>1.991323</td>\n",
       "      <td>1.959195</td>\n",
       "      <td>1.979115</td>\n",
       "      <td>79195200.0</td>\n",
       "      <td>39.51</td>\n",
       "      <td>54.322689</td>\n",
       "    </tr>\n",
       "    <tr>\n",
       "      <th>2004-08-23</th>\n",
       "      <td>1.982970</td>\n",
       "      <td>2.009315</td>\n",
       "      <td>1.966263</td>\n",
       "      <td>1.997107</td>\n",
       "      <td>63665000.0</td>\n",
       "      <td>39.45</td>\n",
       "      <td>54.869377</td>\n",
       "    </tr>\n",
       "    <tr>\n",
       "      <th>2004-08-24</th>\n",
       "      <td>2.008673</td>\n",
       "      <td>2.053010</td>\n",
       "      <td>2.004175</td>\n",
       "      <td>2.053010</td>\n",
       "      <td>93534000.0</td>\n",
       "      <td>39.05</td>\n",
       "      <td>52.597363</td>\n",
       "    </tr>\n",
       "    <tr>\n",
       "      <th>2004-08-25</th>\n",
       "      <td>2.050440</td>\n",
       "      <td>2.130119</td>\n",
       "      <td>2.038874</td>\n",
       "      <td>2.123693</td>\n",
       "      <td>126404600.0</td>\n",
       "      <td>40.30</td>\n",
       "      <td>53.164113</td>\n",
       "    </tr>\n",
       "  </tbody>\n",
       "</table>\n",
       "</div>"
      ],
      "text/plain": [
       "                open      high       low     close       volume  AMZN_close  \\\n",
       "Date                                                                          \n",
       "2004-08-19  2.024737  2.047227  1.950842  1.973332   97230000.0       38.63   \n",
       "2004-08-20  1.973332  1.991323  1.959195  1.979115   79195200.0       39.51   \n",
       "2004-08-23  1.982970  2.009315  1.966263  1.997107   63665000.0       39.45   \n",
       "2004-08-24  2.008673  2.053010  2.004175  2.053010   93534000.0       39.05   \n",
       "2004-08-25  2.050440  2.130119  2.038874  2.123693  126404600.0       40.30   \n",
       "\n",
       "            GOOGL_close  \n",
       "Date                     \n",
       "2004-08-19    50.322842  \n",
       "2004-08-20    54.322689  \n",
       "2004-08-23    54.869377  \n",
       "2004-08-24    52.597363  \n",
       "2004-08-25    53.164113  "
      ]
     },
     "execution_count": 249,
     "metadata": {},
     "output_type": "execute_result"
    }
   ],
   "source": [
    "X.head()"
   ]
  },
  {
   "cell_type": "code",
   "execution_count": 262,
   "metadata": {
    "collapsed": true
   },
   "outputs": [
    {
     "ename": "ValueError",
     "evalue": "Expected 2D array, got 1D array instead:\narray=[ 97230000.  79195200.  63665000. ...,  19198189.  19029621.  25015218.].\nReshape your data either using array.reshape(-1, 1) if your data has a single feature or array.reshape(1, -1) if it contains a single sample.",
     "output_type": "error",
     "traceback": [
      "\u001b[0;31m---------------------------------------------------------------------------\u001b[0m",
      "\u001b[0;31mValueError\u001b[0m                                Traceback (most recent call last)",
      "\u001b[0;32m<ipython-input-262-25ed53d57736>\u001b[0m in \u001b[0;36m<module>\u001b[0;34m()\u001b[0m\n\u001b[1;32m      1\u001b[0m \u001b[0mX_price\u001b[0m\u001b[0;34m,\u001b[0m \u001b[0mX_volume\u001b[0m \u001b[0;34m=\u001b[0m \u001b[0mX\u001b[0m\u001b[0;34m.\u001b[0m\u001b[0mdrop\u001b[0m\u001b[0;34m(\u001b[0m\u001b[0;34m'volume'\u001b[0m\u001b[0;34m,\u001b[0m \u001b[0;36m1\u001b[0m\u001b[0;34m)\u001b[0m\u001b[0;34m,\u001b[0m \u001b[0mX\u001b[0m\u001b[0;34m[\u001b[0m\u001b[0;34m'volume'\u001b[0m\u001b[0;34m]\u001b[0m\u001b[0;34m\u001b[0m\u001b[0m\n\u001b[1;32m      2\u001b[0m \u001b[0mX_price\u001b[0m\u001b[0;34m,\u001b[0m \u001b[0mscaler_price\u001b[0m \u001b[0;34m=\u001b[0m \u001b[0mpreprocessing_data_by_row\u001b[0m\u001b[0;34m(\u001b[0m\u001b[0mX_price\u001b[0m\u001b[0;34m)\u001b[0m\u001b[0;34m\u001b[0m\u001b[0m\n\u001b[0;32m----> 3\u001b[0;31m \u001b[0mX_volume\u001b[0m\u001b[0;34m,\u001b[0m \u001b[0mscaler_volume\u001b[0m \u001b[0;34m=\u001b[0m \u001b[0mpreprocessing_data_by_row\u001b[0m\u001b[0;34m(\u001b[0m\u001b[0mX_volume\u001b[0m\u001b[0;34m)\u001b[0m\u001b[0;34m\u001b[0m\u001b[0m\n\u001b[0m\u001b[1;32m      4\u001b[0m \u001b[0;31m#X_combined =\u001b[0m\u001b[0;34m\u001b[0m\u001b[0;34m\u001b[0m\u001b[0m\n",
      "\u001b[0;32m<ipython-input-239-0193c1083470>\u001b[0m in \u001b[0;36mpreprocessing_data_by_row\u001b[0;34m(data)\u001b[0m\n\u001b[1;32m     22\u001b[0m         \u001b[0mdata_T\u001b[0m \u001b[0;34m=\u001b[0m \u001b[0mdata\u001b[0m\u001b[0;34m.\u001b[0m\u001b[0mtranspose\u001b[0m\u001b[0;34m(\u001b[0m\u001b[0;34m)\u001b[0m\u001b[0;34m\u001b[0m\u001b[0m\n\u001b[1;32m     23\u001b[0m \u001b[0;34m\u001b[0m\u001b[0m\n\u001b[0;32m---> 24\u001b[0;31m         \u001b[0mscaler\u001b[0m \u001b[0;34m=\u001b[0m \u001b[0mpreprocessing\u001b[0m\u001b[0;34m.\u001b[0m\u001b[0mMinMaxScaler\u001b[0m\u001b[0;34m(\u001b[0m\u001b[0;34m)\u001b[0m\u001b[0;34m.\u001b[0m\u001b[0mfit\u001b[0m\u001b[0;34m(\u001b[0m\u001b[0mdata_T\u001b[0m\u001b[0;34m)\u001b[0m\u001b[0;34m\u001b[0m\u001b[0m\n\u001b[0m\u001b[1;32m     25\u001b[0m \u001b[0;34m\u001b[0m\u001b[0m\n\u001b[1;32m     26\u001b[0m         \u001b[0mdata_T_scale\u001b[0m \u001b[0;34m=\u001b[0m \u001b[0mscaler\u001b[0m\u001b[0;34m.\u001b[0m\u001b[0mtransform\u001b[0m\u001b[0;34m(\u001b[0m\u001b[0mdata_T\u001b[0m\u001b[0;34m)\u001b[0m\u001b[0;34m\u001b[0m\u001b[0m\n",
      "\u001b[0;32m/usr/local/lib/python3.5/dist-packages/sklearn/preprocessing/data.py\u001b[0m in \u001b[0;36mfit\u001b[0;34m(self, X, y)\u001b[0m\n\u001b[1;32m    306\u001b[0m         \u001b[0;31m# Reset internal state before fitting\u001b[0m\u001b[0;34m\u001b[0m\u001b[0;34m\u001b[0m\u001b[0m\n\u001b[1;32m    307\u001b[0m         \u001b[0mself\u001b[0m\u001b[0;34m.\u001b[0m\u001b[0m_reset\u001b[0m\u001b[0;34m(\u001b[0m\u001b[0;34m)\u001b[0m\u001b[0;34m\u001b[0m\u001b[0m\n\u001b[0;32m--> 308\u001b[0;31m         \u001b[0;32mreturn\u001b[0m \u001b[0mself\u001b[0m\u001b[0;34m.\u001b[0m\u001b[0mpartial_fit\u001b[0m\u001b[0;34m(\u001b[0m\u001b[0mX\u001b[0m\u001b[0;34m,\u001b[0m \u001b[0my\u001b[0m\u001b[0;34m)\u001b[0m\u001b[0;34m\u001b[0m\u001b[0m\n\u001b[0m\u001b[1;32m    309\u001b[0m \u001b[0;34m\u001b[0m\u001b[0m\n\u001b[1;32m    310\u001b[0m     \u001b[0;32mdef\u001b[0m \u001b[0mpartial_fit\u001b[0m\u001b[0;34m(\u001b[0m\u001b[0mself\u001b[0m\u001b[0;34m,\u001b[0m \u001b[0mX\u001b[0m\u001b[0;34m,\u001b[0m \u001b[0my\u001b[0m\u001b[0;34m=\u001b[0m\u001b[0;32mNone\u001b[0m\u001b[0;34m)\u001b[0m\u001b[0;34m:\u001b[0m\u001b[0;34m\u001b[0m\u001b[0m\n",
      "\u001b[0;32m/usr/local/lib/python3.5/dist-packages/sklearn/preprocessing/data.py\u001b[0m in \u001b[0;36mpartial_fit\u001b[0;34m(self, X, y)\u001b[0m\n\u001b[1;32m    332\u001b[0m \u001b[0;34m\u001b[0m\u001b[0m\n\u001b[1;32m    333\u001b[0m         X = check_array(X, copy=self.copy, warn_on_dtype=True,\n\u001b[0;32m--> 334\u001b[0;31m                         estimator=self, dtype=FLOAT_DTYPES)\n\u001b[0m\u001b[1;32m    335\u001b[0m \u001b[0;34m\u001b[0m\u001b[0m\n\u001b[1;32m    336\u001b[0m         \u001b[0mdata_min\u001b[0m \u001b[0;34m=\u001b[0m \u001b[0mnp\u001b[0m\u001b[0;34m.\u001b[0m\u001b[0mmin\u001b[0m\u001b[0;34m(\u001b[0m\u001b[0mX\u001b[0m\u001b[0;34m,\u001b[0m \u001b[0maxis\u001b[0m\u001b[0;34m=\u001b[0m\u001b[0;36m0\u001b[0m\u001b[0;34m)\u001b[0m\u001b[0;34m\u001b[0m\u001b[0m\n",
      "\u001b[0;32m/usr/local/lib/python3.5/dist-packages/sklearn/utils/validation.py\u001b[0m in \u001b[0;36mcheck_array\u001b[0;34m(array, accept_sparse, dtype, order, copy, force_all_finite, ensure_2d, allow_nd, ensure_min_samples, ensure_min_features, warn_on_dtype, estimator)\u001b[0m\n\u001b[1;32m    408\u001b[0m                     \u001b[0;34m\"Reshape your data either using array.reshape(-1, 1) if \"\u001b[0m\u001b[0;34m\u001b[0m\u001b[0m\n\u001b[1;32m    409\u001b[0m                     \u001b[0;34m\"your data has a single feature or array.reshape(1, -1) \"\u001b[0m\u001b[0;34m\u001b[0m\u001b[0m\n\u001b[0;32m--> 410\u001b[0;31m                     \"if it contains a single sample.\".format(array))\n\u001b[0m\u001b[1;32m    411\u001b[0m             \u001b[0marray\u001b[0m \u001b[0;34m=\u001b[0m \u001b[0mnp\u001b[0m\u001b[0;34m.\u001b[0m\u001b[0matleast_2d\u001b[0m\u001b[0;34m(\u001b[0m\u001b[0marray\u001b[0m\u001b[0;34m)\u001b[0m\u001b[0;34m\u001b[0m\u001b[0m\n\u001b[1;32m    412\u001b[0m             \u001b[0;31m# To ensure that array flags are maintained\u001b[0m\u001b[0;34m\u001b[0m\u001b[0;34m\u001b[0m\u001b[0m\n",
      "\u001b[0;31mValueError\u001b[0m: Expected 2D array, got 1D array instead:\narray=[ 97230000.  79195200.  63665000. ...,  19198189.  19029621.  25015218.].\nReshape your data either using array.reshape(-1, 1) if your data has a single feature or array.reshape(1, -1) if it contains a single sample."
     ]
    }
   ],
   "source": [
    "X_price, X_volume = X.drop('volume', 1), X['volume']\n",
    "X_price, scaler_price = preprocessing_data_by_row(X_price)\n",
    "X_volume, scaler_volume = preprocessing_data_by_row(X_volume)\n",
    "#X_combined = "
   ]
  },
  {
   "cell_type": "code",
   "execution_count": 244,
   "metadata": {
    "collapsed": true
   },
   "outputs": [],
   "source": [
    "def train_test_split(x):\n",
    "    return x[:int(0.7*len(x))], x[int(0.7*len(x))+1: ]"
   ]
  },
  {
   "cell_type": "code",
   "execution_count": 245,
   "metadata": {},
   "outputs": [],
   "source": [
    "X_train, X_test = train_test_split(X)\n",
    "y_train, y_test = train_test_split(y)"
   ]
  },
  {
   "cell_type": "code",
   "execution_count": 246,
   "metadata": {
    "collapsed": true
   },
   "outputs": [
    {
     "ename": "ValueError",
     "evalue": "labels [ 97230000.  79195200.  63665000. ...,  79239300.  59305400.  57010100.] not contained in axis",
     "output_type": "error",
     "traceback": [
      "\u001b[0;31m---------------------------------------------------------------------------\u001b[0m",
      "\u001b[0;31mValueError\u001b[0m                                Traceback (most recent call last)",
      "\u001b[0;32m<ipython-input-246-f0cef4ab4227>\u001b[0m in \u001b[0;36m<module>\u001b[0;34m()\u001b[0m\n\u001b[0;32m----> 1\u001b[0;31m \u001b[0mX_train_price\u001b[0m\u001b[0;34m,\u001b[0m \u001b[0mX_train_volume\u001b[0m \u001b[0;34m=\u001b[0m \u001b[0mdivide_into_price_volume\u001b[0m\u001b[0;34m(\u001b[0m\u001b[0mX_train\u001b[0m\u001b[0;34m)\u001b[0m\u001b[0;34m\u001b[0m\u001b[0m\n\u001b[0m\u001b[1;32m      2\u001b[0m \u001b[0mX_test_price\u001b[0m\u001b[0;34m,\u001b[0m \u001b[0mX_test_volume\u001b[0m \u001b[0;34m=\u001b[0m \u001b[0mdivide_into_price_volume\u001b[0m\u001b[0;34m(\u001b[0m\u001b[0mX_test\u001b[0m\u001b[0;34m)\u001b[0m\u001b[0;34m\u001b[0m\u001b[0m\n",
      "\u001b[0;32m<ipython-input-239-0193c1083470>\u001b[0m in \u001b[0;36mdivide_into_price_volume\u001b[0;34m(df)\u001b[0m\n\u001b[1;32m      3\u001b[0m \u001b[0;34m\u001b[0m\u001b[0m\n\u001b[1;32m      4\u001b[0m     \u001b[0;31m#volume_cols = [col for col in df.columns if 'v' in col]\u001b[0m\u001b[0;34m\u001b[0m\u001b[0;34m\u001b[0m\u001b[0m\n\u001b[0;32m----> 5\u001b[0;31m     \u001b[0;32mreturn\u001b[0m \u001b[0mnp\u001b[0m\u001b[0;34m.\u001b[0m\u001b[0marray\u001b[0m\u001b[0;34m(\u001b[0m\u001b[0mdf\u001b[0m\u001b[0;34m.\u001b[0m\u001b[0mdrop\u001b[0m\u001b[0;34m(\u001b[0m\u001b[0mdf\u001b[0m\u001b[0;34m[\u001b[0m\u001b[0;34m'volume'\u001b[0m\u001b[0;34m]\u001b[0m\u001b[0;34m,\u001b[0m \u001b[0;36m1\u001b[0m\u001b[0;34m)\u001b[0m\u001b[0;34m)\u001b[0m\u001b[0;34m,\u001b[0m \u001b[0mnp\u001b[0m\u001b[0;34m.\u001b[0m\u001b[0marray\u001b[0m\u001b[0;34m(\u001b[0m\u001b[0mdf\u001b[0m\u001b[0;34m[\u001b[0m\u001b[0;34m'volume'\u001b[0m\u001b[0;34m]\u001b[0m\u001b[0;34m)\u001b[0m\u001b[0;34m\u001b[0m\u001b[0m\n\u001b[0m\u001b[1;32m      6\u001b[0m \u001b[0;34m\u001b[0m\u001b[0m\n\u001b[1;32m      7\u001b[0m \u001b[0;34m\u001b[0m\u001b[0m\n",
      "\u001b[0;32m/usr/local/lib/python3.5/dist-packages/pandas/core/generic.py\u001b[0m in \u001b[0;36mdrop\u001b[0;34m(self, labels, axis, level, inplace, errors)\u001b[0m\n\u001b[1;32m   2159\u001b[0m                 \u001b[0mnew_axis\u001b[0m \u001b[0;34m=\u001b[0m \u001b[0maxis\u001b[0m\u001b[0;34m.\u001b[0m\u001b[0mdrop\u001b[0m\u001b[0;34m(\u001b[0m\u001b[0mlabels\u001b[0m\u001b[0;34m,\u001b[0m \u001b[0mlevel\u001b[0m\u001b[0;34m=\u001b[0m\u001b[0mlevel\u001b[0m\u001b[0;34m,\u001b[0m \u001b[0merrors\u001b[0m\u001b[0;34m=\u001b[0m\u001b[0merrors\u001b[0m\u001b[0;34m)\u001b[0m\u001b[0;34m\u001b[0m\u001b[0m\n\u001b[1;32m   2160\u001b[0m             \u001b[0;32melse\u001b[0m\u001b[0;34m:\u001b[0m\u001b[0;34m\u001b[0m\u001b[0m\n\u001b[0;32m-> 2161\u001b[0;31m                 \u001b[0mnew_axis\u001b[0m \u001b[0;34m=\u001b[0m \u001b[0maxis\u001b[0m\u001b[0;34m.\u001b[0m\u001b[0mdrop\u001b[0m\u001b[0;34m(\u001b[0m\u001b[0mlabels\u001b[0m\u001b[0;34m,\u001b[0m \u001b[0merrors\u001b[0m\u001b[0;34m=\u001b[0m\u001b[0merrors\u001b[0m\u001b[0;34m)\u001b[0m\u001b[0;34m\u001b[0m\u001b[0m\n\u001b[0m\u001b[1;32m   2162\u001b[0m             \u001b[0mdropped\u001b[0m \u001b[0;34m=\u001b[0m \u001b[0mself\u001b[0m\u001b[0;34m.\u001b[0m\u001b[0mreindex\u001b[0m\u001b[0;34m(\u001b[0m\u001b[0;34m**\u001b[0m\u001b[0;34m{\u001b[0m\u001b[0maxis_name\u001b[0m\u001b[0;34m:\u001b[0m \u001b[0mnew_axis\u001b[0m\u001b[0;34m}\u001b[0m\u001b[0;34m)\u001b[0m\u001b[0;34m\u001b[0m\u001b[0m\n\u001b[1;32m   2163\u001b[0m             \u001b[0;32mtry\u001b[0m\u001b[0;34m:\u001b[0m\u001b[0;34m\u001b[0m\u001b[0m\n",
      "\u001b[0;32m/usr/local/lib/python3.5/dist-packages/pandas/core/indexes/base.py\u001b[0m in \u001b[0;36mdrop\u001b[0;34m(self, labels, errors)\u001b[0m\n\u001b[1;32m   3622\u001b[0m             \u001b[0;32mif\u001b[0m \u001b[0merrors\u001b[0m \u001b[0;34m!=\u001b[0m \u001b[0;34m'ignore'\u001b[0m\u001b[0;34m:\u001b[0m\u001b[0;34m\u001b[0m\u001b[0m\n\u001b[1;32m   3623\u001b[0m                 raise ValueError('labels %s not contained in axis' %\n\u001b[0;32m-> 3624\u001b[0;31m                                  labels[mask])\n\u001b[0m\u001b[1;32m   3625\u001b[0m             \u001b[0mindexer\u001b[0m \u001b[0;34m=\u001b[0m \u001b[0mindexer\u001b[0m\u001b[0;34m[\u001b[0m\u001b[0;34m~\u001b[0m\u001b[0mmask\u001b[0m\u001b[0;34m]\u001b[0m\u001b[0;34m\u001b[0m\u001b[0m\n\u001b[1;32m   3626\u001b[0m         \u001b[0;32mreturn\u001b[0m \u001b[0mself\u001b[0m\u001b[0;34m.\u001b[0m\u001b[0mdelete\u001b[0m\u001b[0;34m(\u001b[0m\u001b[0mindexer\u001b[0m\u001b[0;34m)\u001b[0m\u001b[0;34m\u001b[0m\u001b[0m\n",
      "\u001b[0;31mValueError\u001b[0m: labels [ 97230000.  79195200.  63665000. ...,  79239300.  59305400.  57010100.] not contained in axis"
     ]
    }
   ],
   "source": [
    "# X_train_price, X_train_volume = divide_into_price_volume(X_train)\n",
    "# X_test_price, X_test_volume = divide_into_price_volume(X_test)"
   ]
  },
  {
   "cell_type": "code",
   "execution_count": 247,
   "metadata": {},
   "outputs": [
    {
     "ename": "ValueError",
     "evalue": "Expected 2D array, got 1D array instead:\narray=[ 97230000.  79195200.  63665000. ...,  64717100.  78073100.  72729300.].\nReshape your data either using array.reshape(-1, 1) if your data has a single feature or array.reshape(1, -1) if it contains a single sample.",
     "output_type": "error",
     "traceback": [
      "\u001b[0;31m---------------------------------------------------------------------------\u001b[0m",
      "\u001b[0;31mValueError\u001b[0m                                Traceback (most recent call last)",
      "\u001b[0;32m<ipython-input-247-140cd3773bf2>\u001b[0m in \u001b[0;36m<module>\u001b[0;34m()\u001b[0m\n\u001b[1;32m      1\u001b[0m \u001b[0mX_train_price\u001b[0m\u001b[0;34m,\u001b[0m \u001b[0mscaler_train_price\u001b[0m \u001b[0;34m=\u001b[0m \u001b[0mpreprocessing_data_by_row\u001b[0m\u001b[0;34m(\u001b[0m\u001b[0mX_train_price\u001b[0m\u001b[0;34m)\u001b[0m\u001b[0;34m\u001b[0m\u001b[0m\n\u001b[0;32m----> 2\u001b[0;31m \u001b[0mX_train_volume\u001b[0m\u001b[0;34m,\u001b[0m \u001b[0mscaler_traini_volume\u001b[0m \u001b[0;34m=\u001b[0m \u001b[0mpreprocessing_data_by_row\u001b[0m\u001b[0;34m(\u001b[0m\u001b[0mX_train_volume\u001b[0m\u001b[0;34m)\u001b[0m\u001b[0;34m\u001b[0m\u001b[0m\n\u001b[0m",
      "\u001b[0;32m<ipython-input-239-0193c1083470>\u001b[0m in \u001b[0;36mpreprocessing_data_by_row\u001b[0;34m(data)\u001b[0m\n\u001b[1;32m     22\u001b[0m         \u001b[0mdata_T\u001b[0m \u001b[0;34m=\u001b[0m \u001b[0mdata\u001b[0m\u001b[0;34m.\u001b[0m\u001b[0mtranspose\u001b[0m\u001b[0;34m(\u001b[0m\u001b[0;34m)\u001b[0m\u001b[0;34m\u001b[0m\u001b[0m\n\u001b[1;32m     23\u001b[0m \u001b[0;34m\u001b[0m\u001b[0m\n\u001b[0;32m---> 24\u001b[0;31m         \u001b[0mscaler\u001b[0m \u001b[0;34m=\u001b[0m \u001b[0mpreprocessing\u001b[0m\u001b[0;34m.\u001b[0m\u001b[0mMinMaxScaler\u001b[0m\u001b[0;34m(\u001b[0m\u001b[0;34m)\u001b[0m\u001b[0;34m.\u001b[0m\u001b[0mfit\u001b[0m\u001b[0;34m(\u001b[0m\u001b[0mdata_T\u001b[0m\u001b[0;34m)\u001b[0m\u001b[0;34m\u001b[0m\u001b[0m\n\u001b[0m\u001b[1;32m     25\u001b[0m \u001b[0;34m\u001b[0m\u001b[0m\n\u001b[1;32m     26\u001b[0m         \u001b[0mdata_T_scale\u001b[0m \u001b[0;34m=\u001b[0m \u001b[0mscaler\u001b[0m\u001b[0;34m.\u001b[0m\u001b[0mtransform\u001b[0m\u001b[0;34m(\u001b[0m\u001b[0mdata_T\u001b[0m\u001b[0;34m)\u001b[0m\u001b[0;34m\u001b[0m\u001b[0m\n",
      "\u001b[0;32m/usr/local/lib/python3.5/dist-packages/sklearn/preprocessing/data.py\u001b[0m in \u001b[0;36mfit\u001b[0;34m(self, X, y)\u001b[0m\n\u001b[1;32m    306\u001b[0m         \u001b[0;31m# Reset internal state before fitting\u001b[0m\u001b[0;34m\u001b[0m\u001b[0;34m\u001b[0m\u001b[0m\n\u001b[1;32m    307\u001b[0m         \u001b[0mself\u001b[0m\u001b[0;34m.\u001b[0m\u001b[0m_reset\u001b[0m\u001b[0;34m(\u001b[0m\u001b[0;34m)\u001b[0m\u001b[0;34m\u001b[0m\u001b[0m\n\u001b[0;32m--> 308\u001b[0;31m         \u001b[0;32mreturn\u001b[0m \u001b[0mself\u001b[0m\u001b[0;34m.\u001b[0m\u001b[0mpartial_fit\u001b[0m\u001b[0;34m(\u001b[0m\u001b[0mX\u001b[0m\u001b[0;34m,\u001b[0m \u001b[0my\u001b[0m\u001b[0;34m)\u001b[0m\u001b[0;34m\u001b[0m\u001b[0m\n\u001b[0m\u001b[1;32m    309\u001b[0m \u001b[0;34m\u001b[0m\u001b[0m\n\u001b[1;32m    310\u001b[0m     \u001b[0;32mdef\u001b[0m \u001b[0mpartial_fit\u001b[0m\u001b[0;34m(\u001b[0m\u001b[0mself\u001b[0m\u001b[0;34m,\u001b[0m \u001b[0mX\u001b[0m\u001b[0;34m,\u001b[0m \u001b[0my\u001b[0m\u001b[0;34m=\u001b[0m\u001b[0;32mNone\u001b[0m\u001b[0;34m)\u001b[0m\u001b[0;34m:\u001b[0m\u001b[0;34m\u001b[0m\u001b[0m\n",
      "\u001b[0;32m/usr/local/lib/python3.5/dist-packages/sklearn/preprocessing/data.py\u001b[0m in \u001b[0;36mpartial_fit\u001b[0;34m(self, X, y)\u001b[0m\n\u001b[1;32m    332\u001b[0m \u001b[0;34m\u001b[0m\u001b[0m\n\u001b[1;32m    333\u001b[0m         X = check_array(X, copy=self.copy, warn_on_dtype=True,\n\u001b[0;32m--> 334\u001b[0;31m                         estimator=self, dtype=FLOAT_DTYPES)\n\u001b[0m\u001b[1;32m    335\u001b[0m \u001b[0;34m\u001b[0m\u001b[0m\n\u001b[1;32m    336\u001b[0m         \u001b[0mdata_min\u001b[0m \u001b[0;34m=\u001b[0m \u001b[0mnp\u001b[0m\u001b[0;34m.\u001b[0m\u001b[0mmin\u001b[0m\u001b[0;34m(\u001b[0m\u001b[0mX\u001b[0m\u001b[0;34m,\u001b[0m \u001b[0maxis\u001b[0m\u001b[0;34m=\u001b[0m\u001b[0;36m0\u001b[0m\u001b[0;34m)\u001b[0m\u001b[0;34m\u001b[0m\u001b[0m\n",
      "\u001b[0;32m/usr/local/lib/python3.5/dist-packages/sklearn/utils/validation.py\u001b[0m in \u001b[0;36mcheck_array\u001b[0;34m(array, accept_sparse, dtype, order, copy, force_all_finite, ensure_2d, allow_nd, ensure_min_samples, ensure_min_features, warn_on_dtype, estimator)\u001b[0m\n\u001b[1;32m    408\u001b[0m                     \u001b[0;34m\"Reshape your data either using array.reshape(-1, 1) if \"\u001b[0m\u001b[0;34m\u001b[0m\u001b[0m\n\u001b[1;32m    409\u001b[0m                     \u001b[0;34m\"your data has a single feature or array.reshape(1, -1) \"\u001b[0m\u001b[0;34m\u001b[0m\u001b[0m\n\u001b[0;32m--> 410\u001b[0;31m                     \"if it contains a single sample.\".format(array))\n\u001b[0m\u001b[1;32m    411\u001b[0m             \u001b[0marray\u001b[0m \u001b[0;34m=\u001b[0m \u001b[0mnp\u001b[0m\u001b[0;34m.\u001b[0m\u001b[0matleast_2d\u001b[0m\u001b[0;34m(\u001b[0m\u001b[0marray\u001b[0m\u001b[0;34m)\u001b[0m\u001b[0;34m\u001b[0m\u001b[0m\n\u001b[1;32m    412\u001b[0m             \u001b[0;31m# To ensure that array flags are maintained\u001b[0m\u001b[0;34m\u001b[0m\u001b[0;34m\u001b[0m\u001b[0m\n",
      "\u001b[0;31mValueError\u001b[0m: Expected 2D array, got 1D array instead:\narray=[ 97230000.  79195200.  63665000. ...,  64717100.  78073100.  72729300.].\nReshape your data either using array.reshape(-1, 1) if your data has a single feature or array.reshape(1, -1) if it contains a single sample."
     ]
    }
   ],
   "source": [
    "X_price, scaler_price = preprocessing_data_by_row(X_price)\n",
    "X_volume, scaler_volume = preprocessing_data_by_row(X_volume)"
   ]
  },
  {
   "cell_type": "code",
   "execution_count": 237,
   "metadata": {},
   "outputs": [],
   "source": [
    "# X_train_price, X_train_volume = divide_into_price_volume(X_train)\n",
    "# X_test_price, X_test_volume = divide_into_price_volume(X_test)"
   ]
  },
  {
   "cell_type": "code",
   "execution_count": 238,
   "metadata": {},
   "outputs": [
    {
     "data": {
      "text/plain": [
       "array([[ 0.],\n",
       "       [ 0.],\n",
       "       [ 0.],\n",
       "       ..., \n",
       "       [ 0.],\n",
       "       [ 0.],\n",
       "       [ 0.]])"
      ]
     },
     "execution_count": 238,
     "metadata": {},
     "output_type": "execute_result"
    }
   ],
   "source": [
    "X_volume"
   ]
  },
  {
   "cell_type": "code",
   "execution_count": 111,
   "metadata": {},
   "outputs": [],
   "source": [
    "X_price, scaler_price = preprocessing_data_by_row(X_price)\n",
    "X_volume, scaler_volume = preprocessing_data_by_row(X_volume)"
   ]
  },
  {
   "cell_type": "code",
   "execution_count": 124,
   "metadata": {},
   "outputs": [
    {
     "data": {
      "text/plain": [
       "[<matplotlib.lines.Line2D at 0x7f5b70aa8ac8>]"
      ]
     },
     "execution_count": 124,
     "metadata": {},
     "output_type": "execute_result"
    },
    {
     "data": {
      "image/png": "[encoded data removed]",
      "text/plain": [
       "<matplotlib.figure.Figure at 0x7f5b70a73550>"
      ]
     },
     "metadata": {},
     "output_type": "display_data"
    }
   ],
   "source": [
    "plt.plot(X_price[:, 0])"
   ]
  },
  {
   "cell_type": "code",
   "execution_count": 78,
   "metadata": {},
   "outputs": [],
   "source": [
    "window_len = 10 \n",
    "features = 'ohlcvag'\n",
    "featureset = []\n",
    "featuresDict = {'c': 'close', 'h': 'high', 'l': 'low', 'o': 'open', 'v': 'volume', 'a': 'AMZN_close', 'g':'GOOGL_close'}\n",
    "\n",
    "for i in range(window_len, -1, -1):\n",
    "    for j in list(features):\n",
    "        df[j + '_-' + str(i) + '_d'] = df[featuresDict[j]].shift(1 * i)\n",
    "        featureset.append(j + '_-' + str(i) + '_d')"
   ]
  },
  {
   "cell_type": "code",
   "execution_count": 79,
   "metadata": {},
   "outputs": [],
   "source": [
    "df = df[featureset]\n",
    "df.dropna(inplace=True)"
   ]
  },
  {
   "cell_type": "code",
   "execution_count": 80,
   "metadata": {
    "collapsed": true
   },
   "outputs": [],
   "source": [
    "\n",
    "\n",
    "df_lately = df[-pred_len:]\n",
    "valid = df[len(df) - valid_len: len(df)]\n",
    "train = df[0:len(df) - valid_len]"
   ]
  },
  {
   "cell_type": "code",
   "execution_count": 85,
   "metadata": {},
   "outputs": [
    {
     "data": {
      "text/html": [
       "<div>\n",
       "<style>\n",
       "    .dataframe thead tr:only-child th {\n",
       "        text-align: right;\n",
       "    }\n",
       "\n",
       "    .dataframe thead th {\n",
       "        text-align: left;\n",
       "    }\n",
       "\n",
       "    .dataframe tbody tr th {\n",
       "        vertical-align: top;\n",
       "    }\n",
       "</style>\n",
       "<table border=\"1\" class=\"dataframe\">\n",
       "  <thead>\n",
       "    <tr style=\"text-align: right;\">\n",
       "      <th></th>\n",
       "      <th>o_-10_d</th>\n",
       "      <th>h_-10_d</th>\n",
       "      <th>l_-10_d</th>\n",
       "      <th>c_-10_d</th>\n",
       "      <th>v_-10_d</th>\n",
       "      <th>a_-10_d</th>\n",
       "      <th>g_-10_d</th>\n",
       "      <th>o_-9_d</th>\n",
       "      <th>h_-9_d</th>\n",
       "      <th>l_-9_d</th>\n",
       "      <th>...</th>\n",
       "      <th>v_-1_d</th>\n",
       "      <th>a_-1_d</th>\n",
       "      <th>g_-1_d</th>\n",
       "      <th>o_-0_d</th>\n",
       "      <th>h_-0_d</th>\n",
       "      <th>l_-0_d</th>\n",
       "      <th>c_-0_d</th>\n",
       "      <th>v_-0_d</th>\n",
       "      <th>a_-0_d</th>\n",
       "      <th>g_-0_d</th>\n",
       "    </tr>\n",
       "    <tr>\n",
       "      <th>Date</th>\n",
       "      <th></th>\n",
       "      <th></th>\n",
       "      <th></th>\n",
       "      <th></th>\n",
       "      <th></th>\n",
       "      <th></th>\n",
       "      <th></th>\n",
       "      <th></th>\n",
       "      <th></th>\n",
       "      <th></th>\n",
       "      <th></th>\n",
       "      <th></th>\n",
       "      <th></th>\n",
       "      <th></th>\n",
       "      <th></th>\n",
       "      <th></th>\n",
       "      <th></th>\n",
       "      <th></th>\n",
       "      <th></th>\n",
       "      <th></th>\n",
       "      <th></th>\n",
       "    </tr>\n",
       "  </thead>\n",
       "  <tbody>\n",
       "    <tr>\n",
       "      <th>2004-09-02</th>\n",
       "      <td>2.024737</td>\n",
       "      <td>2.047227</td>\n",
       "      <td>1.950842</td>\n",
       "      <td>1.973332</td>\n",
       "      <td>97230000.0</td>\n",
       "      <td>38.63</td>\n",
       "      <td>50.322842</td>\n",
       "      <td>1.973332</td>\n",
       "      <td>1.991323</td>\n",
       "      <td>1.959195</td>\n",
       "      <td>...</td>\n",
       "      <td>128931600.0</td>\n",
       "      <td>38.24</td>\n",
       "      <td>50.280210</td>\n",
       "      <td>2.281122</td>\n",
       "      <td>2.301042</td>\n",
       "      <td>2.238070</td>\n",
       "      <td>2.291404</td>\n",
       "      <td>101581200.0</td>\n",
       "      <td>39.18</td>\n",
       "      <td>50.912161</td>\n",
       "    </tr>\n",
       "    <tr>\n",
       "      <th>2004-09-03</th>\n",
       "      <td>1.973332</td>\n",
       "      <td>1.991323</td>\n",
       "      <td>1.959195</td>\n",
       "      <td>1.979115</td>\n",
       "      <td>79195200.0</td>\n",
       "      <td>39.51</td>\n",
       "      <td>54.322689</td>\n",
       "      <td>1.982970</td>\n",
       "      <td>2.009315</td>\n",
       "      <td>1.966263</td>\n",
       "      <td>...</td>\n",
       "      <td>101581200.0</td>\n",
       "      <td>39.18</td>\n",
       "      <td>50.912161</td>\n",
       "      <td>2.250922</td>\n",
       "      <td>2.308110</td>\n",
       "      <td>2.249636</td>\n",
       "      <td>2.263773</td>\n",
       "      <td>73367000.0</td>\n",
       "      <td>38.74</td>\n",
       "      <td>50.159839</td>\n",
       "    </tr>\n",
       "    <tr>\n",
       "      <th>2004-09-07</th>\n",
       "      <td>1.982970</td>\n",
       "      <td>2.009315</td>\n",
       "      <td>1.966263</td>\n",
       "      <td>1.997107</td>\n",
       "      <td>63665000.0</td>\n",
       "      <td>39.45</td>\n",
       "      <td>54.869377</td>\n",
       "      <td>2.008673</td>\n",
       "      <td>2.053010</td>\n",
       "      <td>2.004175</td>\n",
       "      <td>...</td>\n",
       "      <td>73367000.0</td>\n",
       "      <td>38.74</td>\n",
       "      <td>50.159839</td>\n",
       "      <td>2.274697</td>\n",
       "      <td>2.325460</td>\n",
       "      <td>2.263773</td>\n",
       "      <td>2.297829</td>\n",
       "      <td>75489400.0</td>\n",
       "      <td>38.51</td>\n",
       "      <td>50.947269</td>\n",
       "    </tr>\n",
       "    <tr>\n",
       "      <th>2004-09-08</th>\n",
       "      <td>2.008673</td>\n",
       "      <td>2.053010</td>\n",
       "      <td>2.004175</td>\n",
       "      <td>2.053010</td>\n",
       "      <td>93534000.0</td>\n",
       "      <td>39.05</td>\n",
       "      <td>52.597363</td>\n",
       "      <td>2.050440</td>\n",
       "      <td>2.130119</td>\n",
       "      <td>2.038874</td>\n",
       "      <td>...</td>\n",
       "      <td>75489400.0</td>\n",
       "      <td>38.51</td>\n",
       "      <td>50.947269</td>\n",
       "      <td>2.293974</td>\n",
       "      <td>2.349877</td>\n",
       "      <td>2.292689</td>\n",
       "      <td>2.335741</td>\n",
       "      <td>85881600.0</td>\n",
       "      <td>38.01</td>\n",
       "      <td>51.308384</td>\n",
       "    </tr>\n",
       "    <tr>\n",
       "      <th>2004-09-09</th>\n",
       "      <td>2.050440</td>\n",
       "      <td>2.130119</td>\n",
       "      <td>2.038874</td>\n",
       "      <td>2.123693</td>\n",
       "      <td>126404600.0</td>\n",
       "      <td>40.30</td>\n",
       "      <td>53.164113</td>\n",
       "      <td>2.126263</td>\n",
       "      <td>2.260560</td>\n",
       "      <td>2.103773</td>\n",
       "      <td>...</td>\n",
       "      <td>85881600.0</td>\n",
       "      <td>38.01</td>\n",
       "      <td>51.308384</td>\n",
       "      <td>2.319677</td>\n",
       "      <td>2.332528</td>\n",
       "      <td>2.266986</td>\n",
       "      <td>2.293974</td>\n",
       "      <td>115334800.0</td>\n",
       "      <td>38.07</td>\n",
       "      <td>51.313400</td>\n",
       "    </tr>\n",
       "  </tbody>\n",
       "</table>\n",
       "<p>5 rows × 77 columns</p>\n",
       "</div>"
      ],
      "text/plain": [
       "             o_-10_d   h_-10_d   l_-10_d   c_-10_d      v_-10_d  a_-10_d  \\\n",
       "Date                                                                       \n",
       "2004-09-02  2.024737  2.047227  1.950842  1.973332   97230000.0    38.63   \n",
       "2004-09-03  1.973332  1.991323  1.959195  1.979115   79195200.0    39.51   \n",
       "2004-09-07  1.982970  2.009315  1.966263  1.997107   63665000.0    39.45   \n",
       "2004-09-08  2.008673  2.053010  2.004175  2.053010   93534000.0    39.05   \n",
       "2004-09-09  2.050440  2.130119  2.038874  2.123693  126404600.0    40.30   \n",
       "\n",
       "              g_-10_d    o_-9_d    h_-9_d    l_-9_d    ...           v_-1_d  \\\n",
       "Date                                                   ...                    \n",
       "2004-09-02  50.322842  1.973332  1.991323  1.959195    ...      128931600.0   \n",
       "2004-09-03  54.322689  1.982970  2.009315  1.966263    ...      101581200.0   \n",
       "2004-09-07  54.869377  2.008673  2.053010  2.004175    ...       73367000.0   \n",
       "2004-09-08  52.597363  2.050440  2.130119  2.038874    ...       75489400.0   \n",
       "2004-09-09  53.164113  2.126263  2.260560  2.103773    ...       85881600.0   \n",
       "\n",
       "            a_-1_d     g_-1_d    o_-0_d    h_-0_d    l_-0_d    c_-0_d  \\\n",
       "Date                                                                    \n",
       "2004-09-02   38.24  50.280210  2.281122  2.301042  2.238070  2.291404   \n",
       "2004-09-03   39.18  50.912161  2.250922  2.308110  2.249636  2.263773   \n",
       "2004-09-07   38.74  50.159839  2.274697  2.325460  2.263773  2.297829   \n",
       "2004-09-08   38.51  50.947269  2.293974  2.349877  2.292689  2.335741   \n",
       "2004-09-09   38.01  51.308384  2.319677  2.332528  2.266986  2.293974   \n",
       "\n",
       "                 v_-0_d  a_-0_d     g_-0_d  \n",
       "Date                                        \n",
       "2004-09-02  101581200.0   39.18  50.912161  \n",
       "2004-09-03   73367000.0   38.74  50.159839  \n",
       "2004-09-07   75489400.0   38.51  50.947269  \n",
       "2004-09-08   85881600.0   38.01  51.308384  \n",
       "2004-09-09  115334800.0   38.07  51.313400  \n",
       "\n",
       "[5 rows x 77 columns]"
      ]
     },
     "execution_count": 85,
     "metadata": {},
     "output_type": "execute_result"
    }
   ],
   "source": [
    "# train_y = train['close']\n",
    "# #train_X = train.drop(train['close'], 1)\n",
    "# train_y\n",
    "\n",
    "train.head()"
   ]
  },
  {
   "cell_type": "code",
   "execution_count": 66,
   "metadata": {
    "collapsed": true
   },
   "outputs": [],
   "source": [
    "\n"
   ]
  },
  {
   "cell_type": "code",
   "execution_count": 67,
   "metadata": {},
   "outputs": [
    {
     "data": {
      "text/plain": [
       "(array([[-0.36882605, -0.36882605, -0.36882605, ...,  2.08557202,\n",
       "         -0.36882515, -0.36882487],\n",
       "        [-0.36601593, -0.36601593, -0.36601593, ...,  1.42962175,\n",
       "         -0.36601503, -0.36601475],\n",
       "        [-0.36549624, -0.36549624, -0.36549624, ...,  1.48541988,\n",
       "         -0.36549534, -0.36549504],\n",
       "        ..., \n",
       "        [-0.40397498, -0.40397497, -0.4039751 , ...,  2.20244175,\n",
       "         -0.40395385, -0.40394736],\n",
       "        [-0.39913444, -0.3991344 , -0.3991345 , ...,  1.15100184,\n",
       "         -0.39911202, -0.39910559],\n",
       "        [-0.39556288, -0.39556285, -0.39556313, ...,  1.32130041,\n",
       "         -0.39554001, -0.39553303]]),\n",
       " StandardScaler(copy=True, with_mean=True, with_std=True))"
      ]
     },
     "execution_count": 67,
     "metadata": {},
     "output_type": "execute_result"
    }
   ],
   "source": []
  },
  {
   "cell_type": "code",
   "execution_count": 15,
   "metadata": {
    "collapsed": true
   },
   "outputs": [
    {
     "ename": "NameError",
     "evalue": "name 'dataset' is not defined",
     "output_type": "error",
     "traceback": [
      "\u001b[0;31m---------------------------------------------------------------------------\u001b[0m",
      "\u001b[0;31mNameError\u001b[0m                                 Traceback (most recent call last)",
      "\u001b[0;32m<ipython-input-15-5d4a7feea56e>\u001b[0m in \u001b[0;36m<module>\u001b[0;34m()\u001b[0m\n\u001b[1;32m      3\u001b[0m \u001b[0;34m\u001b[0m\u001b[0m\n\u001b[1;32m      4\u001b[0m \u001b[0mscaler\u001b[0m \u001b[0;34m=\u001b[0m \u001b[0mMinMaxScaler\u001b[0m\u001b[0;34m(\u001b[0m\u001b[0mfeature_range\u001b[0m\u001b[0;34m=\u001b[0m\u001b[0;34m(\u001b[0m\u001b[0;36m0\u001b[0m\u001b[0;34m,\u001b[0m \u001b[0;36m1\u001b[0m\u001b[0;34m)\u001b[0m\u001b[0;34m)\u001b[0m\u001b[0;34m\u001b[0m\u001b[0m\n\u001b[0;32m----> 5\u001b[0;31m \u001b[0mdataset\u001b[0m \u001b[0;34m=\u001b[0m \u001b[0mscaler\u001b[0m\u001b[0;34m.\u001b[0m\u001b[0mfit_transform\u001b[0m\u001b[0;34m(\u001b[0m\u001b[0mdataset\u001b[0m\u001b[0;34m)\u001b[0m\u001b[0;34m\u001b[0m\u001b[0m\n\u001b[0m\u001b[1;32m      6\u001b[0m \u001b[0;34m\u001b[0m\u001b[0m\n\u001b[1;32m      7\u001b[0m \u001b[0mdataset\u001b[0m\u001b[0;34m.\u001b[0m\u001b[0mshape\u001b[0m\u001b[0;34m\u001b[0m\u001b[0m\n",
      "\u001b[0;31mNameError\u001b[0m: name 'dataset' is not defined"
     ]
    }
   ],
   "source": [
    "# normalize the dataset\n",
    "from sklearn import preprocessing\n",
    "\n",
    "scaler = MinMaxScaler(feature_range=(0, 1))\n",
    "dataset = `scaler.fit_transform(dataset)\n",
    "\n",
    "dataset.shape\n",
    "dataset"
   ]
  },
  {
   "cell_type": "code",
   "execution_count": null,
   "metadata": {},
   "outputs": [],
   "source": [
    "# split into train and test sets\n",
    "train_size = int(len(dataset) * 0.67)\n",
    "test_size = len(dataset) - train_size\n",
    "train, test = dataset[0:train_size,:], dataset[train_size:len(dataset),:]\n",
    "train"
   ]
  },
  {
   "cell_type": "code",
   "execution_count": null,
   "metadata": {
    "collapsed": true
   },
   "outputs": [],
   "source": [
    "# from sklearn import preprocessing\n",
    "\n",
    "# scaler = MinMaxScaler(feature_range=(0, 1))\n",
    "\n",
    "# train = dataset[0:train_size,:]\n"
   ]
  },
  {
   "cell_type": "code",
   "execution_count": null,
   "metadata": {},
   "outputs": [],
   "source": [
    "# reshape into X=t and Y=t+1\n",
    "look_back = 5\n",
    "trainX, trainY = create_dataset(train, look_back)\n",
    "testX, testY = create_dataset(test, look_back)\n",
    "trainY"
   ]
  },
  {
   "cell_type": "code",
   "execution_count": null,
   "metadata": {},
   "outputs": [],
   "source": [
    "trainX.shape"
   ]
  },
  {
   "cell_type": "code",
   "execution_count": null,
   "metadata": {},
   "outputs": [],
   "source": [
    "# reshape input to be [samples, time steps, features]\n",
    "trainX = np.reshape(trainX, (trainX.shape[0], trainX.shape[1], trainX.shape[2]))\n",
    "testX = np.reshape(testX, (testX.shape[0], testX.shape[1], testX.shape[2]))\n",
    "trainX.shape"
   ]
  },
  {
   "cell_type": "code",
   "execution_count": null,
   "metadata": {},
   "outputs": [],
   "source": [
    "print(trainX.shape)\n",
    "print(trainY.shape)"
   ]
  },
  {
   "cell_type": "code",
   "execution_count": null,
   "metadata": {},
   "outputs": [],
   "source": [
    "# create and fit the LSTM network\n",
    "from keras import regularizers\n",
    "\n",
    "\n",
    "model = Sequential()\n",
    "model.add(LSTM(128, input_shape=(5, 4), kernel_regularizer=regularizers.l2(1),\n",
    "                activity_regularizer=regularizers.l1(0.01)))\n",
    "model.add(Dense(1))\n",
    "\n",
    "\n",
    "\n",
    "model.compile(loss='mean_absolute_percentage_error', optimizer='adam')\n",
    "model.fit(trainX, trainY, epochs=2, batch_size=1000, verbose=2)\n",
    "# make predictions\n",
    "trainPredict = model.predict(trainX)\n",
    "testPredict = model.predict(testX)\n"
   ]
  },
  {
   "cell_type": "code",
   "execution_count": null,
   "metadata": {},
   "outputs": [],
   "source": [
    "testPredict.shape"
   ]
  },
  {
   "cell_type": "code",
   "execution_count": null,
   "metadata": {
    "collapsed": true
   },
   "outputs": [],
   "source": []
  },
  {
   "cell_type": "code",
   "execution_count": null,
   "metadata": {},
   "outputs": [],
   "source": [
    "# invert predictions\n",
    "trainPredict = scaler.inverse_transform(trainPredict)\n",
    "trainY = scaler.inverse_transform([trainY])\n",
    "testPredict = scaler.inverse_transform(testPredict)\n",
    "testY = scaler.inverse_transform([testY])\n",
    "# calculate root mean squared error\n",
    "trainScore = math.sqrt(mean_squared_error(trainY[0], trainPredict[:,0]))\n",
    "print('Train Score: %.2f RMSE' % (trainScore))\n",
    "testScore = math.sqrt(mean_squared_error(testY[0], testPredict[:,0]))\n",
    "print('Test Score: %.2f RMSE' % (testScore))\n"
   ]
  },
  {
   "cell_type": "code",
   "execution_count": null,
   "metadata": {
    "collapsed": true
   },
   "outputs": [],
   "source": [
    "# # invert predictions\n",
    "# trainPredict = scaler.inverse_transform(trainPredict)\n",
    "\n",
    "\n"
   ]
  },
  {
   "cell_type": "code",
   "execution_count": null,
   "metadata": {
    "collapsed": true
   },
   "outputs": [],
   "source": [
    "# shift train predictions for plotting\n",
    "\n",
    "plt.figure(figsize = (15, 5))\n",
    "trainPredictPlot = np.empty_like(dataset)\n",
    "trainPredictPlot[:, :] = np.nan\n",
    "trainPredictPlot[look_back:len(trainPredict)+look_back, :] = trainPredict\n",
    "# shift test predictions for plotting\n",
    "testPredictPlot = np.empty_like(dataset)\n",
    "testPredictPlot[:, :] = np.nan\n",
    "testPredictPlot[len(trainPredict)+(look_back*2)+1:len(dataset)-1, :] = testPredict\n",
    "# plot baseline and predictions\n",
    "plt.plot(scaler.inverse_transform(dataset))\n",
    "plt.plot(trainPredictPlot)\n",
    "plt.plot(testPredictPlot)\n",
    "\n",
    "plt.show()"
   ]
  },
  {
   "cell_type": "code",
   "execution_count": null,
   "metadata": {
    "collapsed": true
   },
   "outputs": [],
   "source": [
    "# shift train predictions for plotting\n",
    "trainPredictPlot = np.empty_like(dataset)\n",
    "trainPredictPlot[:, :] = np.nan\n",
    "trainPredictPlot[look_back:len(trainPredict)+look_back, :] = trainPredict\n",
    "# shift test predictions for plotting\n",
    "testPredictPlot = np.empty_like(dataset)\n",
    "testPredictPlot[:, :] = np.nan\n",
    "testPredictPlot[len(trainPredict)+(look_back*2)+1:len(dataset)-1, :] = testPredict\n",
    "# plot baseline and predictions\n",
    "date = pd.to_datetime(df.Date)\n",
    "plt.figure(figsize = (20, 5))\n",
    "plt.plot(date, scaler.inverse_transform(dataset), color = 'r')\n",
    "plt.plot(date[:len(trainPredictPlot)+1], trainPredictPlot, color = 'g')\n",
    "plt.plot(date[:len(testPredictPlot)+1], testPredictPlot, color = 'b')\n",
    "plt.xlim(('2017-08-01', '2017-09-28'))\n",
    "plt.ylim((150, 165))\n",
    "plt.show()"
   ]
  },
  {
   "cell_type": "code",
   "execution_count": null,
   "metadata": {
    "collapsed": true
   },
   "outputs": [],
   "source": [
    "len(date)"
   ]
  },
  {
   "cell_type": "code",
   "execution_count": null,
   "metadata": {
    "collapsed": true
   },
   "outputs": [],
   "source": []
  }
 ],
 "metadata": {
  "kernelspec": {
   "display_name": "Python 3",
   "language": "python",
   "name": "python3"
  },
  "language_info": {
   "codemirror_mode": {
    "name": "ipython",
    "version": 3
   },
   "file_extension": ".py",
   "mimetype": "text/x-python",
   "name": "python",
   "nbconvert_exporter": "python",
   "pygments_lexer": "ipython3",
   "version": "3.5.2"
  }
 },
 "nbformat": 4,
 "nbformat_minor": 2
}
